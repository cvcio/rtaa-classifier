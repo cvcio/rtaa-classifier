{
 "cells": [
  {
   "cell_type": "code",
   "execution_count": null,
   "id": "e19661b2-0872-422e-a853-ddf6c06ede3c",
   "metadata": {},
   "outputs": [],
   "source": [
    "# !pip install matplotlib sklearn imblearn catboost hyperopt seaborn numpy==1.19"
   ]
  },
  {
   "cell_type": "code",
   "execution_count": null,
   "id": "0cf337e1-f20c-43ac-8974-e353019e367c",
   "metadata": {},
   "outputs": [],
   "source": [
    "import numpy as np\n",
    "import pandas as pd\n",
    "import matplotlib.pyplot as plt\n",
    "import seaborn as sns\n",
    "\n",
    "import warnings\n",
    "\n",
    "from sklearn.metrics import accuracy_score, classification_report, precision_score, recall_score, f1_score\n",
    "from sklearn.model_selection import train_test_split\n",
    "from imblearn.over_sampling import SMOTE\n",
    "\n",
    "from catboost import CatBoostClassifier, cv, Pool\n",
    "from hyperopt import STATUS_OK, Trials, fmin, hp, tpe\n",
    "\n",
    "warnings.filterwarnings('ignore')\n",
    "pd.set_option('use_inf_as_na', True)"
   ]
  },
  {
   "cell_type": "code",
   "execution_count": null,
   "id": "71f7b857-e171-4baf-83a2-4cabaeb4077a",
   "metadata": {},
   "outputs": [],
   "source": [
    "df = pd.read_csv('./data/model.csv')"
   ]
  },
  {
   "cell_type": "code",
   "execution_count": null,
   "id": "8d0e6fea-7486-4396-9bd0-745f1fa800b2",
   "metadata": {},
   "outputs": [],
   "source": [
    "df['created_at'] = pd.to_datetime(df['created_at'], utc=True, format='%Y-%m-%d %H:%M:%S')\n",
    "df['observed_at'] = pd.to_datetime(df['observed_at'], utc=True, format='%Y-%m-%d %H:%M:%S')\n",
    "df['default_profile'] = df.apply(lambda x: int(x['default_profile']), axis = 1)\n",
    "df['verified'] = df.apply(lambda x: int(x['verified']), axis = 1)"
   ]
  },
  {
   "cell_type": "code",
   "execution_count": null,
   "id": "47993e3b-692e-482a-b6db-3cfda493b343",
   "metadata": {},
   "outputs": [],
   "source": [
    "DATA_V1 = df\n",
    "DATA_V1"
   ]
  },
  {
   "cell_type": "code",
   "execution_count": null,
   "id": "b8f64cbd-800e-4eb9-8d75-08066997b87a",
   "metadata": {},
   "outputs": [],
   "source": [
    "def plot_feature_importance(importance, names, model_type):\n",
    "    # Create arrays from feature importance and feature names\n",
    "    feature_importance = np.array(importance)\n",
    "    feature_names = np.array(names)\n",
    "    \n",
    "    # Create a DataFrame using a Dictionary\n",
    "    data={ 'feature_names': feature_names, 'feature_importance': feature_importance }\n",
    "    fi_df = pd.DataFrame(data)\n",
    "    \n",
    "    # Sort the DataFrame in order decreasing feature importance\n",
    "    fi_df.sort_values(by = ['feature_importance'], ascending = False, inplace = True)\n",
    "    \n",
    "    # Define size of bar plot\n",
    "    plt.figure(figsize = (10,8))\n",
    "    \n",
    "    # Set theme\n",
    "    sns.set_theme()\n",
    "    \n",
    "    # Plot Searborn bar chart\n",
    "    sns.barplot(x = fi_df['feature_importance'], y = fi_df['feature_names'])\n",
    "    \n",
    "    # Add chart labels\n",
    "    plt.title(model_type + 'FEATURE IMPORTANCE')\n",
    "    plt.xlabel('FEATURE IMPORTANCE')\n",
    "    plt.ylabel('FEATURE NAMES')"
   ]
  },
  {
   "cell_type": "code",
   "execution_count": null,
   "id": "c7bbaebd-7786-4e0c-b827-eb503a463e3e",
   "metadata": {},
   "outputs": [],
   "source": [
    "labels_v1 = DATA_V1[['label']]\n",
    "labels_list_v1 = list(labels_v1.columns)"
   ]
  },
  {
   "cell_type": "code",
   "execution_count": null,
   "id": "6455ea77-08bb-4177-97b4-bcc417a0c539",
   "metadata": {},
   "outputs": [],
   "source": [
    "features_v1 = DATA_V1[[\n",
    "    'tweets', # twitter\n",
    "    'followers', # twitter\n",
    "    'following', # twitter\n",
    "    'favorites', # twitter\n",
    "    'listed', # twitter\n",
    "    'default_profile', # twitter\n",
    "    'verified', # twitter\n",
    "    'actions_frequency', # tweets + favorites / dates_since (andefined)\n",
    "    'tweets_freqquency', # tweets / dates_since (Yang et al.)\n",
    "    'reputation', # followers / followers + friends (Feng et al.)\n",
    "    'followers_growth_rate', # followers / dates_since (Yang et al.)\n",
    "    'following_growth_rate', # following / dates_since (Yang et al.)\n",
    "    'favorites_growth_rate', # favorites / dates_since (Yang et al.)\n",
    "    'listed_growth_rate', # listed / dates_since (Yang et al.)\n",
    "    'followers_following_ratio', # followers / following (andefined)    \n",
    "    'credibility', # listed / followers + listed andefined\n",
    "    'tweets_favorites_ratio' # tweets / favorites andefined\n",
    "]]\n",
    "feature_list_v1 = list(features_v1.columns)"
   ]
  },
  {
   "cell_type": "code",
   "execution_count": null,
   "id": "9d29e0d6-645d-4bb1-914e-e05a8666dc04",
   "metadata": {},
   "outputs": [],
   "source": [
    "train_features_v1, test_features_v1, train_labels_v1, test_labels_v1 = train_test_split(\n",
    "    features_v1, labels_v1, train_size = 0.9, random_state = 42\n",
    ")"
   ]
  },
  {
   "cell_type": "code",
   "execution_count": null,
   "id": "e6b1a275-9439-43ec-80b7-1e371e6a5f48",
   "metadata": {},
   "outputs": [],
   "source": [
    "print('Training Features Shape:', train_features_v1.shape)\n",
    "print('Training Labels Shape:', train_labels_v1.shape)\n",
    "print('Testing Features Shape:', test_features_v1.shape)\n",
    "print('Testing Labels Shape:', test_labels_v1.shape)"
   ]
  },
  {
   "cell_type": "code",
   "execution_count": null,
   "id": "5504a384-3d62-4af6-b787-765c17e4290a",
   "metadata": {},
   "outputs": [],
   "source": [
    "train_pool_v1 = Pool(train_features_v1, train_labels_v1)\n",
    "eval_pool_v1 = Pool(test_features_v1, test_labels_v1)"
   ]
  },
  {
   "cell_type": "code",
   "execution_count": null,
   "id": "48d804ac-624d-4660-85c3-fea1fcf57b96",
   "metadata": {},
   "outputs": [],
   "source": [
    "def hyperopt_objective(params):\n",
    "    model = CatBoostClassifier(\n",
    "        l2_leaf_reg = params['l2_leaf_reg'],\n",
    "        learning_rate = params['learning_rate'],\n",
    "        depth = params['depth'],\n",
    "        iterations = 1000,\n",
    "        eval_metric = 'Accuracy',\n",
    "        random_seed = 42,\n",
    "        loss_function = 'MultiClassOneVsAll',\n",
    "    )\n",
    "    \n",
    "    cv_data = cv(\n",
    "        train_pool_v1,\n",
    "        model.get_params(),\n",
    "        logging_level = 'Silent',\n",
    "        plot = True\n",
    "    )\n",
    "    best_accuracy = np.max(cv_data['test-Accuracy-mean'])\n",
    "    \n",
    "    return 1 - best_accuracy # as hyperopt minimises"
   ]
  },
  {
   "cell_type": "code",
   "execution_count": null,
   "id": "b910a587-189c-4737-b9c3-5470fc7709b1",
   "metadata": {},
   "outputs": [],
   "source": [
    "params_space = {\n",
    "    'l2_leaf_reg':   hp.quniform('l2_leaf_reg', 2, 30, 2),\n",
    "    'depth':         hp.quniform('depth', 6, 10, 1),\n",
    "    'learning_rate': hp.uniform('learning_rate', 1e-3, 5e-1),\n",
    "}\n",
    "\n",
    "trials = Trials()\n",
    "best_hyperparams = fmin(\n",
    "    fn = hyperopt_objective,\n",
    "    space = params_space,\n",
    "    algo = tpe.suggest,\n",
    "    max_evals = 18,\n",
    "    trials = trials,\n",
    ")"
   ]
  },
  {
   "cell_type": "code",
   "execution_count": null,
   "id": "ae91073d-ebfc-4c49-8450-41fba5c8fb1b",
   "metadata": {},
   "outputs": [],
   "source": [
    "print(best_hyperparams)"
   ]
  },
  {
   "cell_type": "code",
   "execution_count": null,
   "id": "7cb64d12-c648-43ca-bddf-8db34fe41501",
   "metadata": {},
   "outputs": [],
   "source": [
    "params = {\n",
    "    'iterations': 5000,\n",
    "    'learning_rate': 0.3,\n",
    "    'depth': 8,\n",
    "    'l2_leaf_reg': 4,\n",
    "    'loss_function': 'MultiClassOneVsAll',\n",
    "    'custom_loss': ['MultiClassOneVsAll','Accuracy', 'F1', 'Recall'],\n",
    "    'eval_metric':'AUC:hints=skip_train~false',\n",
    "    'gpu_ram_part': 0.95,\n",
    "    'random_seed': 42,\n",
    "    'task_type': 'GPU',\n",
    "    'devices': '0',\n",
    "    'logging_level': 'Silent',\n",
    "    'use_best_model': True\n",
    "}\n",
    "\n",
    "model_v1 = CatBoostClassifier(**params)\n",
    "model_v1.fit(train_pool_v1, eval_set = eval_pool_v1, plot = True)"
   ]
  },
  {
   "cell_type": "code",
   "execution_count": null,
   "id": "ec8dad39-3e36-4e9b-bbc8-18172d369ac4",
   "metadata": {},
   "outputs": [],
   "source": [
    "print('Model params')\n",
    "print(model_v1.get_params())\n",
    "\n",
    "print(\"Best Score\")\n",
    "print(model_v1.get_best_score())"
   ]
  },
  {
   "cell_type": "code",
   "execution_count": null,
   "id": "2e76fd13-06f1-4773-9480-9f678db3824a",
   "metadata": {},
   "outputs": [],
   "source": [
    "predictions_cat_v1 = model_v1.predict(test_features_v1)"
   ]
  },
  {
   "cell_type": "code",
   "execution_count": null,
   "id": "74112dd5-e3b8-46b5-8139-0940806e538b",
   "metadata": {},
   "outputs": [],
   "source": [
    "accuracy_v1 = accuracy_score(test_labels_v1, predictions_cat_v1)\n",
    "print('Score:', accuracy_v1)\n",
    "print('Precision Score:', round(precision_score(test_labels_v1, predictions_cat_v1, average = 'micro') * 100, 2), '%')\n",
    "print('Recall Score:', round(recall_score(test_labels_v1, predictions_cat_v1, average = 'micro'), 2) * 100, '%')\n",
    "print('F1 Score:', round(f1_score(test_labels_v1, predictions_cat_v1, average = 'micro'), 2) * 100, '%')"
   ]
  },
  {
   "cell_type": "code",
   "execution_count": null,
   "id": "a742890c-a676-4214-9fac-2df7ccfa2b94",
   "metadata": {},
   "outputs": [],
   "source": [
    "report_v1 = classification_report(test_labels_v1, predictions_cat_v1)\n",
    "print(report_v1)"
   ]
  },
  {
   "cell_type": "code",
   "execution_count": null,
   "id": "2315de39-b309-4a7b-bb74-724d9954d8ae",
   "metadata": {},
   "outputs": [],
   "source": [
    "plot_feature_importance(model_v1.get_feature_importance(), feature_list_v1, 'CATBOOST V1 ')"
   ]
  },
  {
   "cell_type": "code",
   "execution_count": null,
   "id": "d7ee3b59-1d6a-42fe-a55c-d180575127a7",
   "metadata": {},
   "outputs": [],
   "source": [
    "model_v1.save_model('../models/account_catboost_classifier_twitter_v1-no_digits.model')"
   ]
  }
 ],
 "metadata": {
  "kernelspec": {
   "display_name": "Python 3 (ipykernel)",
   "language": "python",
   "name": "python3"
  },
  "language_info": {
   "codemirror_mode": {
    "name": "ipython",
    "version": 3
   },
   "file_extension": ".py",
   "mimetype": "text/x-python",
   "name": "python",
   "nbconvert_exporter": "python",
   "pygments_lexer": "ipython3",
   "version": "3.8.12"
  }
 },
 "nbformat": 4,
 "nbformat_minor": 5
}
